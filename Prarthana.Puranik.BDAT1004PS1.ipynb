{
 "cells": [
  {
   "cell_type": "markdown",
   "id": "864eff16",
   "metadata": {},
   "source": [
    "Problem Set1"
   ]
  },
  {
   "cell_type": "markdown",
   "id": "40c3e016",
   "metadata": {},
   "source": [
    "Q1 What data type is each of the following (evaluate where necessary)?"
   ]
  },
  {
   "cell_type": "code",
   "execution_count": 95,
   "id": "a45fbdb6",
   "metadata": {},
   "outputs": [
    {
     "name": "stdout",
     "output_type": "stream",
     "text": [
      "Datatype of 5 is  <class 'int'>\n",
      "Datatype of 5.0 is  <class 'float'>\n",
      "Datatype of 5>1 is  <class 'bool'>\n",
      "Datatype of '5' is  <class 'str'>\n",
      "Datatype of 5*2 is  <class 'int'>\n",
      "Datatype of '5'*2 is  <class 'str'>\n",
      "Datatype of '5'+'2' is  <class 'str'>\n",
      "Datatype of 5/2 is  <class 'float'>\n",
      "Datatype of 5%2 is  <class 'int'>\n",
      "Datatype of {5,2,1} is  <class 'set'>\n",
      "Datatype of 5==3 is  <class 'bool'>\n",
      "Value of Pi is  3.141592653589793\n",
      "Datatype of Pi is  <class 'float'>\n"
     ]
    }
   ],
   "source": [
    "# Q1\n",
    "print(\"Datatype of 5 is \", type(5))\n",
    "print(\"Datatype of 5.0 is \", type(5.0))\n",
    "print(\"Datatype of 5>1 is \", type(5>1))\n",
    "print(\"Datatype of '5' is \", type('5'))\n",
    "print(\"Datatype of 5*2 is \", type(5*2))\n",
    "print(\"Datatype of '5'*2 is \", type('5'*2))\n",
    "print(\"Datatype of '5'+'2' is \", type('5'+'2'))\n",
    "print(\"Datatype of 5/2 is \", type(5/2))\n",
    "print(\"Datatype of 5%2 is \", type(5%2))\n",
    "print(\"Datatype of {5,2,1} is \", type({5,2,1}))\n",
    "print(\"Datatype of 5==3 is \", type(5==3))\n",
    "import math\n",
    "print(\"Value of Pi is \",math.pi)    # used math lib to get standard value of Pi\n",
    "print(\"Datatype of Pi is \", type(math.pi))"
   ]
  },
  {
   "cell_type": "markdown",
   "id": "7bebd912",
   "metadata": {},
   "source": [
    "Q2 Write (and evaluate) python expressions that answer these questions:\n",
    "a. How many letters are there in 'Supercalifragilisticexpialidocious'?\n",
    "b. Does 'Supercalifragilisticexpialidocious' contain 'ice' as a substring?\n",
    "c. Which of the following words is the longest:\n",
    "Supercalifragilisticexpialidocious, Honorificabilitudinitatibus, or\n",
    "Bababadalgharaghtakamminarronnkonn?\n",
    "d. Which composer comes first in the dictionary: 'Berlioz', 'Borodin', 'Brian',\n",
    "'Bartok', 'Bellini', 'Buxtehude', 'Bernstein'. Which one comes last?"
   ]
  },
  {
   "cell_type": "code",
   "execution_count": 96,
   "id": "23da1789",
   "metadata": {},
   "outputs": [],
   "source": [
    "# Q2\n",
    "def length_of_string(s):\n",
    "    return len(s);"
   ]
  },
  {
   "cell_type": "code",
   "execution_count": 97,
   "id": "af66f5f5",
   "metadata": {},
   "outputs": [],
   "source": [
    "def find_substring(s,sub):\n",
    "    return (sub in s);\n"
   ]
  },
  {
   "cell_type": "markdown",
   "id": "5195b182",
   "metadata": {},
   "source": [
    "a. How many letters are there in 'Supercalifragilisticexpialidocious'?"
   ]
  },
  {
   "cell_type": "code",
   "execution_count": 98,
   "id": "82180ddf",
   "metadata": {},
   "outputs": [
    {
     "name": "stdout",
     "output_type": "stream",
     "text": [
      "Lenght of string is  34\n"
     ]
    }
   ],
   "source": [
    "#Q2-A\n",
    "print(\"Lenght of string is \",len('Supercalifragilisticexpialidocious'))"
   ]
  },
  {
   "cell_type": "markdown",
   "id": "94f6ff08",
   "metadata": {},
   "source": [
    "b. Does 'Supercalifragilisticexpialidocious' contain 'ice' as a substring?"
   ]
  },
  {
   "cell_type": "code",
   "execution_count": 99,
   "id": "a621108a",
   "metadata": {},
   "outputs": [
    {
     "name": "stdout",
     "output_type": "stream",
     "text": [
      "Yes\n"
     ]
    }
   ],
   "source": [
    "#Q2-B\n",
    "m= find_substring('Supercalifragilisticexpialidocious','ice')\n",
    "#print(find_substring('Supercalifragilisticexpialidocious','ice'))\n",
    "if(m):\n",
    "    print('Yes')\n",
    "else:\n",
    "    print('No')\n"
   ]
  },
  {
   "cell_type": "markdown",
   "id": "fa0265a6",
   "metadata": {},
   "source": [
    "c. Which of the following words is the longest: Supercalifragilisticexpialidocious, Honorificabilitudinitatibus, or Bababadalgharaghtakamminarronnkonn?"
   ]
  },
  {
   "cell_type": "code",
   "execution_count": 100,
   "id": "c85b8bde",
   "metadata": {},
   "outputs": [
    {
     "name": "stdout",
     "output_type": "stream",
     "text": [
      "The longest string is \n",
      "Supercalifragilisticexpialidocious\n"
     ]
    }
   ],
   "source": [
    "s1 = 'Supercalifragilisticexpialidocious'\n",
    "s2 = 'Honorificabilitudinitatibus'\n",
    "s3 = 'Bababadalgharaghtakamminarronnkonn'\n",
    "l1 = len(s1)\n",
    "l2 = len(s2)\n",
    "l3 = len(s3)\n",
    "print(\"The longest string is \")\n",
    "if(l1>l2):\n",
    "    print(s3) if (l3>l1) else print(s1)\n",
    "else:\n",
    "    print(s3) if (l3>l2) else print(s2)\n"
   ]
  },
  {
   "cell_type": "markdown",
   "id": "d35ea275",
   "metadata": {},
   "source": [
    "d. Which composer comes first in the dictionary: 'Berlioz', 'Borodin', 'Brian', 'Bartok', 'Bellini', 'Buxtehude', 'Bernstein'. Which one comes last?"
   ]
  },
  {
   "cell_type": "code",
   "execution_count": 101,
   "id": "80b12d60",
   "metadata": {},
   "outputs": [],
   "source": [
    "dct_comp = {'Berlioz', 'Borodin', 'Brian', 'Bartok', 'Bellini', 'Buxtehude', 'Bernstein'}\n",
    "# As dictory is accessed in key value pair there is no first or last like list or array. \n",
    "# any key value pair can be put at first or last position"
   ]
  },
  {
   "cell_type": "markdown",
   "id": "5e4e7a6e",
   "metadata": {},
   "source": [
    "Q3 Implement function triangleArea(a,b,c) that takes as input the lengths of the 3\n",
    "sides of a triangle and returns the area of the triangle. By Heron's formula, the area\n",
    "of a triangle with side lengths a, b, and c is\n",
    "s(s - a)(s -b)(s -c)\n",
    ", where\n",
    "s = (a+b+c)/2.\n",
    ">>> triangleArea(2,2,2)\n",
    "1.7320508075688772"
   ]
  },
  {
   "cell_type": "code",
   "execution_count": 102,
   "id": "04b4b871",
   "metadata": {},
   "outputs": [],
   "source": [
    "#Q3\n",
    "import math\n",
    "def area_of_triangle(a,b,c):\n",
    "    s= (a+b+c)/2\n",
    "    area = math.sqrt(s*(s-a)*(s-b)*(s-c))\n",
    "    return area;"
   ]
  },
  {
   "cell_type": "code",
   "execution_count": 103,
   "id": "5bbd9f24",
   "metadata": {},
   "outputs": [
    {
     "name": "stdout",
     "output_type": "stream",
     "text": [
      " area of the triangle is 1.7320508075688772\n"
     ]
    }
   ],
   "source": [
    "print(\" area of the triangle is\", area_of_triangle(2,2,2))"
   ]
  },
  {
   "cell_type": "markdown",
   "id": "511e804f",
   "metadata": {},
   "source": [
    "Q4 Write a program in python to separate odd and even integers in separate arrays. Go\n",
    "to the editor\n",
    "Test Data :\n",
    "Input the number of elements to be stored in the array :5\n",
    "Input 5 elements in the array :\n",
    "element - 0 : 25\n",
    "element - 1 : 47\n",
    "element - 2 : 42\n",
    "element - 3 : 56\n",
    "element - 4 : 32"
   ]
  },
  {
   "cell_type": "code",
   "execution_count": 104,
   "id": "4f547eaa",
   "metadata": {},
   "outputs": [
    {
     "name": "stdout",
     "output_type": "stream",
     "text": [
      "Input the number of elements to be stored in the array5\n",
      "input 5 elements into the array\n",
      "Enter 0th number:25\n",
      "Enter 1th number:47\n",
      "Enter 2th number:42\n",
      "Enter 3th number:56\n",
      "Enter 4th number:32\n",
      "[25, 47, 42, 56, 32]\n",
      "The Even elements are: \n",
      "[42, 56, 32]\n",
      "The Odd elements are: \n",
      "[25, 47]\n"
     ]
    }
   ],
   "source": [
    "#Q4\n",
    "a = []\n",
    "even = []\n",
    "odd = []\n",
    "\n",
    "num_ele = input(\"Input the number of elements to be stored in the array\")\n",
    "\n",
    "print(f\"input {num_ele} elements into the array\")\n",
    "\n",
    "for i in range(int(num_ele)):\n",
    "    a.append(int(input(f\"Enter {i}th number:\")))\n",
    "\n",
    "print(a)\n",
    "for i in a:\n",
    "    if(i%2 == 0):\n",
    "        even.append(i)\n",
    "    else:\n",
    "        odd.append(i)\n",
    "\n",
    "print(\"The Even elements are: \")\n",
    "print(even)\n",
    "print(\"The Odd elements are: \")\n",
    "print(odd)\n"
   ]
  },
  {
   "cell_type": "markdown",
   "id": "c7eae400",
   "metadata": {},
   "source": [
    "Q5. a. Write a function inside(x,y,x1,y1,x2,y2) that returns True or False\n",
    "depending on whether the point (x,y) lies in the rectangle with lower left\n",
    "corner (x1,y1) and upper right corner (x2,y2).\n",
    ">>> inside(1,1,0,0,2,3)\n",
    "True\n",
    ">>> inside(-1,-1,0,0,2,3)\n",
    "False\n",
    "\n",
    "b. Use function inside() from part a. to write an expression that tests whether\n",
    "the point (1,1) lies in both of the following rectangles: one with lower left\n",
    "corner (0.3, 0.5) and upper right corner (1.1, 0.7) and the other with lower\n",
    "left corner (0.5, 0.2) and upper right corner (1.1, 2). "
   ]
  },
  {
   "cell_type": "code",
   "execution_count": 105,
   "id": "d131d6c3",
   "metadata": {},
   "outputs": [],
   "source": [
    "#Q5 - a\n",
    "def inside(x,y,x1,y1,x2,y2):\n",
    "    if(x>x1 and y>y1) and (x<x2 and y<y2):\n",
    "        return True;\n",
    "    else:\n",
    "        return False;"
   ]
  },
  {
   "cell_type": "code",
   "execution_count": 106,
   "id": "41b227db",
   "metadata": {},
   "outputs": [
    {
     "name": "stdout",
     "output_type": "stream",
     "text": [
      "True\n"
     ]
    }
   ],
   "source": [
    "print(inside(1,1,0,0,2,3))"
   ]
  },
  {
   "cell_type": "code",
   "execution_count": 107,
   "id": "4c7ffa5b",
   "metadata": {},
   "outputs": [
    {
     "name": "stdout",
     "output_type": "stream",
     "text": [
      "False\n"
     ]
    }
   ],
   "source": [
    "print(inside(-1,-1,0,0,2,3))"
   ]
  },
  {
   "cell_type": "code",
   "execution_count": 108,
   "id": "444fbcb1",
   "metadata": {},
   "outputs": [
    {
     "name": "stdout",
     "output_type": "stream",
     "text": [
      "False\n",
      "True\n"
     ]
    }
   ],
   "source": [
    "#Q5-b\n",
    "print(inside(1,1,0.3,0.5,1.1,0.7))\n",
    "print(inside(1,1,0.5,0.2,1.1,2))      "
   ]
  },
  {
   "cell_type": "markdown",
   "id": "802c3fb6",
   "metadata": {},
   "source": [
    "Q6 You can turn a word into pig-Latin using the following two rules (simplified):\n",
    "• If the word starts with a consonant, move that letter to the end and append\n",
    "'ay'. For example, 'happy' becomes 'appyhay' and 'pencil' becomes 'encilpay'.\n",
    "• If the word starts with a vowel, simply append 'way' to the end of the word.\n",
    "For example, 'enter' becomes 'enterway' and 'other' becomes 'otherway' . For\n",
    "our purposes, there are 5 vowels: a, e, i, o, u (so we count y as a consonant).\n",
    "Write a function pig() that takes a word (i.e., a string) as input and returns its pigLatin form. Your function should still work if the input word contains upper case\n",
    "characters. Your output should always be lower case however. "
   ]
  },
  {
   "cell_type": "code",
   "execution_count": 109,
   "id": "6c2f9ae9",
   "metadata": {},
   "outputs": [],
   "source": [
    "#Q6\n",
    "vowels = ['a','e','i','o','u']\n",
    "\n",
    "def pig(word):\n",
    "    #first convert the string to lower case\n",
    "    word = word.lower()\n",
    "    if word[0] in vowels:\n",
    "        vov_str = word+'way'\n",
    "        print(\"for word starting with vowel: \" + vov_str)\n",
    "    else:\n",
    "        temp_str = word[1:]+word[:1]\n",
    "        con_str = temp_str+'ay'\n",
    "        print(\"for word starting with consonant: \" + con_str)"
   ]
  },
  {
   "cell_type": "code",
   "execution_count": 110,
   "id": "217c70d5",
   "metadata": {},
   "outputs": [
    {
     "name": "stdout",
     "output_type": "stream",
     "text": [
      "Enter the word happy\n",
      "for word starting with consonant: appyhay\n"
     ]
    }
   ],
   "source": [
    "word = input(\"Enter the word \")\n",
    "pig(word)"
   ]
  },
  {
   "cell_type": "code",
   "execution_count": 111,
   "id": "abcafc4b",
   "metadata": {},
   "outputs": [
    {
     "name": "stdout",
     "output_type": "stream",
     "text": [
      "Enter the word Enter\n",
      "for word starting with vowel: enterway\n"
     ]
    }
   ],
   "source": [
    "word = input(\"Enter the word \")\n",
    "pig(word)"
   ]
  },
  {
   "cell_type": "markdown",
   "id": "182e6066",
   "metadata": {},
   "source": [
    "Q7 File bloodtype1.txt records blood-types of patients (A, B, AB, O or OO) at a clinic.\n",
    "Write a function bldcount() that reads the file with name name and reports (i.e.,\n",
    "prints) how many patients there are in each bloodtype.\n",
    ">>> bldcount('bloodtype.txt')\n",
    "\n",
    "There are 10 patients of blood type A.\n",
    "There is one patient of blood type B.\n",
    "There are 10 patients of blood type AB.\n",
    "There are 12 patients of blood type O.\n",
    "There are no patients of blood type OO."
   ]
  },
  {
   "cell_type": "code",
   "execution_count": 112,
   "id": "f1f6ef5c",
   "metadata": {},
   "outputs": [],
   "source": [
    "#Q7\n",
    "\n",
    "bld_grp = ['A','B','AB','O','OO']\n",
    "def bldcount(filename):\n",
    "    file=open(filename)\n",
    "    content = file.readlines()\n",
    "    print(content)\n",
    "    #separate data into different strings\n",
    "    content = content[0].split(' ')\n",
    "    print(content)\n",
    "    for i in bld_grp:\n",
    "        print(f\"The number of patients with Blood Group {i} : \", content.count(i)) #google help to use count function\n",
    "    "
   ]
  },
  {
   "cell_type": "code",
   "execution_count": 113,
   "id": "d657917c",
   "metadata": {},
   "outputs": [
    {
     "name": "stdout",
     "output_type": "stream",
     "text": [
      "['AB AB B O A A AB O AB A O O A A A O O O AB O A A A A A AB AB A AB O AB O A O O O AB O AB AB AB A A O ']\n",
      "['AB', 'AB', 'B', 'O', 'A', 'A', 'AB', 'O', 'AB', 'A', 'O', 'O', 'A', 'A', 'A', 'O', 'O', 'O', 'AB', 'O', 'A', 'A', 'A', 'A', 'A', 'AB', 'AB', 'A', 'AB', 'O', 'AB', 'O', 'A', 'O', 'O', 'O', 'AB', 'O', 'AB', 'AB', 'AB', 'A', 'A', 'O', '']\n",
      "The number of patients with Blood Group A :  15\n",
      "The number of patients with Blood Group B :  1\n",
      "The number of patients with Blood Group AB :  13\n",
      "The number of patients with Blood Group O :  15\n",
      "The number of patients with Blood Group OO :  0\n"
     ]
    }
   ],
   "source": [
    "bldcount('bloodtype1.txt')"
   ]
  },
  {
   "cell_type": "markdown",
   "id": "b0a26209",
   "metadata": {},
   "source": [
    "Q8 Write a function curconv() that takes as input:\n",
    "1. a currency represented using a string (e.g., 'JPY' for the Japanese Yen or\n",
    "'EUR' for the Euro)\n",
    "2. an amount\n",
    "and then converts and returns the amount in US dollars.\n",
    ">>> curconv('EUR', 100)\n",
    "122.96544\n",
    ">>> curconv('JPY', 100)\n",
    "1.241401"
   ]
  },
  {
   "cell_type": "code",
   "execution_count": 114,
   "id": "200b2d50",
   "metadata": {},
   "outputs": [],
   "source": [
    "#Q8\n",
    "\n",
    "#new_lst = []\n",
    "def curconv(code,amount):\n",
    "    file=open('currencies.txt')\n",
    "    content = file.readlines()\n",
    "    #print(content) \n",
    "    new_dct = []\n",
    "    for x in content:\n",
    "        temp_lst =x.split()\n",
    "        new_dct.append({temp_lst[0]:temp_lst[1]}) #we only need code and converstion rate\n",
    "    #print(new_dct)    \n",
    "    for i in new_dct:\n",
    "        for c,a in i.items():\n",
    "            # using key value pair\n",
    "            if c==code:\n",
    "                total = amount*a\n",
    "                return total;\n",
    "                            \n",
    "    "
   ]
  },
  {
   "cell_type": "code",
   "execution_count": 115,
   "id": "51064552",
   "metadata": {},
   "outputs": [
    {
     "name": "stdout",
     "output_type": "stream",
     "text": [
      " The converted amount is  1.2296544\n"
     ]
    }
   ],
   "source": [
    "converted = curconv('EUR',1)\n",
    "print(\" The converted amount is \", converted)"
   ]
  },
  {
   "cell_type": "markdown",
   "id": "6286e4e7",
   "metadata": {},
   "source": [
    "Q9 Each of the following will cause an exception (an error). Identify what type of\n",
    "exception each will cause."
   ]
  },
  {
   "cell_type": "code",
   "execution_count": 116,
   "id": "a6e4b273",
   "metadata": {},
   "outputs": [
    {
     "name": "stdout",
     "output_type": "stream",
     "text": [
      "unsupported operand type(s) for +: 'int' and 'str'\n"
     ]
    }
   ],
   "source": [
    "#Q9\n",
    "#Trying to add incompatible variables, as in\n",
    "#adding 6 + ‘a’\n",
    "try:\n",
    "    6+'a'\n",
    "except Exception as e:\n",
    "    print(e)\n",
    "    "
   ]
  },
  {
   "cell_type": "code",
   "execution_count": 117,
   "id": "40a01c71",
   "metadata": {},
   "outputs": [
    {
     "name": "stdout",
     "output_type": "stream",
     "text": [
      "list index out of range\n"
     ]
    }
   ],
   "source": [
    "#Referring to the 12th item of a list that has only 10 items\n",
    "\n",
    "list = [1,1,1,1,1,0,0,0,0,0]\n",
    "try:\n",
    "    print(list[12])\n",
    "except Exception as e:\n",
    "    print(e)"
   ]
  },
  {
   "cell_type": "code",
   "execution_count": 118,
   "id": "fb3a5c62",
   "metadata": {},
   "outputs": [
    {
     "name": "stdout",
     "output_type": "stream",
     "text": [
      "math domain error\n"
     ]
    }
   ],
   "source": [
    "#Using a value that is out of range for a function’s input, such as calling math.sqrt(-1.0)\n",
    "\n",
    "import math\n",
    "try:\n",
    "    print(math.sqrt(-1))\n",
    "except Exception as e:\n",
    "    print(e)"
   ]
  },
  {
   "cell_type": "code",
   "execution_count": 119,
   "id": "f79d82c4",
   "metadata": {},
   "outputs": [
    {
     "name": "stdout",
     "output_type": "stream",
     "text": [
      "name 'y' is not defined\n"
     ]
    }
   ],
   "source": [
    "#Using an undeclared variable, such as print(x) when x has not been defined\n",
    "try:\n",
    "    print(y)\n",
    "except Exception as e:\n",
    "    print(e)"
   ]
  },
  {
   "cell_type": "code",
   "execution_count": 120,
   "id": "5fac7dbe",
   "metadata": {},
   "outputs": [
    {
     "name": "stdout",
     "output_type": "stream",
     "text": [
      "[Errno 2] No such file or directory: 'curren.txt'\n"
     ]
    }
   ],
   "source": [
    "# Trying to open a file that does not exist, such as mistyping the file name or looking in the wrong directory. \n",
    "try:\n",
    "    file=open('curren.txt')\n",
    "except Exception as e:\n",
    "    print(e)"
   ]
  },
  {
   "cell_type": "markdown",
   "id": "eb96f417",
   "metadata": {},
   "source": [
    "Q10 Encryption is the process of hiding the meaning of a text by substituting letters in the\n",
    "message with other letters, according to some system. If the process is successful, no\n",
    "one but the intended recipient can understand the encrypted message. Cryptanalysis\n",
    "refers to attempts to undo the encryption, even if some details of the encryption are\n",
    "unknown (for example, if an encrypted message has been intercepted). The first step\n",
    "of cryptanalysis is often to build up a table of letter frequencies in the encrypted text.\n",
    "Assume that the string letters is already defined as\n",
    "'abcdefghijklmnopqrstuvwxyz'. Write a function called frequencies()\n",
    "that takes a string as its only parameter, and returns a list of integers, showing the\n",
    "number of times each character appears in the text. Your function may ignore any\n",
    "characters that are not in letters.\n",
    ">>> frequencies('The quick red fox got bored and went home.')\n",
    "[1, 1, 1, 3, 5, 1, 1, 2, 1, 0, 1, 0, 1, 2, 4, 0, 1, 2, 0, 2,\n",
    "1, 0, 1, 1, 0, 0]\n",
    ">>> frequencies('apple')"
   ]
  },
  {
   "cell_type": "code",
   "execution_count": 121,
   "id": "f2c82c95",
   "metadata": {},
   "outputs": [],
   "source": [
    "#Q10\n",
    "\n",
    "def frequencies(s):\n",
    "    count = [s.count(item) for item in s]\n",
    "    print(count)"
   ]
  },
  {
   "cell_type": "code",
   "execution_count": 123,
   "id": "e9f675bf",
   "metadata": {},
   "outputs": [
    {
     "name": "stdout",
     "output_type": "stream",
     "text": [
      "Enter the message you want to encrypt: The quick red fox got bored and went home\n",
      "[3, 2, 5, 8, 1, 1, 1, 1, 1, 8, 2, 5, 3, 8, 1, 4, 1, 8, 1, 4, 3, 8, 1, 4, 2, 5, 3, 8, 1, 2, 3, 8, 1, 5, 2, 3, 8, 2, 4, 1, 5]\n"
     ]
    }
   ],
   "source": [
    "s=input(\"Enter the message you want to encrypt: \")\n",
    "frequencies(s.lower())"
   ]
  }
 ],
 "metadata": {
  "kernelspec": {
   "display_name": "Python 3 (ipykernel)",
   "language": "python",
   "name": "python3"
  },
  "language_info": {
   "codemirror_mode": {
    "name": "ipython",
    "version": 3
   },
   "file_extension": ".py",
   "mimetype": "text/x-python",
   "name": "python",
   "nbconvert_exporter": "python",
   "pygments_lexer": "ipython3",
   "version": "3.9.7"
  }
 },
 "nbformat": 4,
 "nbformat_minor": 5
}
